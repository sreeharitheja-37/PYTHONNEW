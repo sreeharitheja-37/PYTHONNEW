{
  "nbformat": 4,
  "nbformat_minor": 0,
  "metadata": {
    "colab": {
      "name": "Module 1 programs.ipynb",
      "provenance": [],
      "include_colab_link": true
    },
    "kernelspec": {
      "name": "python3",
      "display_name": "Python 3"
    },
    "language_info": {
      "name": "python"
    }
  },
  "cells": [
    {
      "cell_type": "markdown",
      "metadata": {
        "id": "view-in-github",
        "colab_type": "text"
      },
      "source": [
        "<a href=\"https://colab.research.google.com/github/sreeharitheja-37/PYTHONNEW/blob/module1/Module_1_programs.ipynb\" target=\"_parent\"><img src=\"https://colab.research.google.com/assets/colab-badge.svg\" alt=\"Open In Colab\"/></a>"
      ]
    },
    {
      "cell_type": "code",
      "execution_count": null,
      "metadata": {
        "colab": {
          "base_uri": "https://localhost:8080/"
        },
        "id": "ONxmh3-5SMxM",
        "outputId": "22fa0c8c-0a4a-496d-bf31-7c18703a790d"
      },
      "outputs": [
        {
          "output_type": "stream",
          "name": "stdout",
          "text": [
            "enter any number6\n",
            "6\n"
          ]
        }
      ],
      "source": [
        "#Accept input from user and store it in variable and print the value.\n",
        "a=int(input(\"enter any number\"))\n",
        "print(a)"
      ]
    },
    {
      "cell_type": "code",
      "source": [
        "#fibanocci series\n",
        "n=int(input(\"enter a number \"))\n",
        "a=0\n",
        "b=1\n",
        "print(a,b, end =\" \")\n",
        "for i in range(n-2):\n",
        "  c=a+b\n",
        "  print(c, end=\" \")\n",
        "  a=b\n",
        "  b=c\n",
        "\n"
      ],
      "metadata": {
        "id": "P-mKKccacOII",
        "outputId": "5c4f52ff-dd68-4f4c-dc07-82470f23b510",
        "colab": {
          "base_uri": "https://localhost:8080/"
        }
      },
      "execution_count": null,
      "outputs": [
        {
          "output_type": "stream",
          "name": "stdout",
          "text": [
            "enter a number 7\n",
            "0 1 1 2 3 5 8 "
          ]
        }
      ]
    },
    {
      "cell_type": "code",
      "source": [
        "#strong number\n",
        "n=int(input(\"enter a number: \"))\n",
        "t=n\n",
        "sum=0\n",
        "while(n !=0):\n",
        "  r=n%10\n",
        "  f=1\n",
        "  while(r !=1):\n",
        "    f=f*r\n",
        "    r=r-1\n",
        "  sum=sum+f\n",
        "  n=n//10\n",
        "if(sum==t):\n",
        "  print(\"it is a strong number\")\n",
        "else:\n",
        "  print(\"it is not a strong number\")\n"
      ],
      "metadata": {
        "id": "k0HgZ-Exjs9R",
        "outputId": "cd808ae0-aac4-44b9-95fc-8b7c95f35254",
        "colab": {
          "base_uri": "https://localhost:8080/"
        }
      },
      "execution_count": null,
      "outputs": [
        {
          "output_type": "stream",
          "name": "stdout",
          "text": [
            "enter a number: 555\n",
            "it is not a strong number\n"
          ]
        }
      ]
    },
    {
      "cell_type": "code",
      "source": [
        "# perfect number\n",
        "n=int(input(\"enter a number: \"))\n",
        "s=0\n",
        "for i in range(1,(n//2+1)):\n",
        "  if n%i == 0:\n",
        "    s+=i\n",
        "\n",
        "if(s == n):\n",
        "  print(\"perfect number\")\n",
        "else:\n",
        "  print(\"not a perfect number\")"
      ],
      "metadata": {
        "id": "CBUjhthfzV8F",
        "outputId": "dfa3f62b-a1a0-4e91-900e-923c6b293264",
        "colab": {
          "base_uri": "https://localhost:8080/"
        }
      },
      "execution_count": null,
      "outputs": [
        {
          "output_type": "stream",
          "name": "stdout",
          "text": [
            "enter a number: 20\n",
            "not a perfect number\n"
          ]
        }
      ]
    },
    {
      "cell_type": "code",
      "source": [
        "# palindrome\n",
        "a=int(input(\"enter a number: \"))\n",
        "b=a\n",
        "rev=0\n",
        "while(a!=0):\n",
        "  r=a%10\n",
        "  rev=rev*10+r\n",
        "  a=a//10\n",
        "print(rev)\n",
        "if(rev==b):\n",
        "  print(\"it is a palindrome\")\n",
        "else:\n",
        "  print(\"it is not a palindome\")"
      ],
      "metadata": {
        "id": "M5MrKnGK4LbM",
        "outputId": "b215d8c2-79b7-4ddb-c59d-600d831a3b7d",
        "colab": {
          "base_uri": "https://localhost:8080/"
        }
      },
      "execution_count": null,
      "outputs": [
        {
          "output_type": "stream",
          "name": "stdout",
          "text": [
            "enter a number: 353\n",
            "353\n",
            "it is a palindrome\n"
          ]
        }
      ]
    },
    {
      "cell_type": "code",
      "source": [
        "#compound interest\n",
        "p=int(input(\" enter Amount :\"))\n",
        "r=int(input(\" enter rate :\"))\n",
        "t=int(input(\" enter time :\"))\n",
        "C=p*pow(1+r/100,t)-p\n",
        "print(\"compound intrest :\",C)"
      ],
      "metadata": {
        "id": "RSDjqZ2u4Yek",
        "outputId": "b944b7eb-29bf-4ddc-bfd1-27c90e877dea",
        "colab": {
          "base_uri": "https://localhost:8080/"
        }
      },
      "execution_count": null,
      "outputs": [
        {
          "output_type": "stream",
          "name": "stdout",
          "text": [
            " enter Amount :1000\n",
            " enter rate :1\n",
            " enter time :2\n",
            "compound intrest : 20.100000000000023\n"
          ]
        }
      ]
    },
    {
      "cell_type": "code",
      "source": [
        "#Use of print statements and use of (.format )for printing different data types.\n",
        "a=\"My name is {fname}, I'm {age}\".format(fname = \"John\", age = 36)\n",
        "print(a)"
      ],
      "metadata": {
        "colab": {
          "base_uri": "https://localhost:8080/"
        },
        "id": "Qt4vWN9oTWVu",
        "outputId": "22086619-13c0-40b7-c9a8-4622fe72b18b"
      },
      "execution_count": null,
      "outputs": [
        {
          "output_type": "stream",
          "name": "stdout",
          "text": [
            "My name is John, I'm 36\n"
          ]
        }
      ]
    },
    {
      "cell_type": "code",
      "source": [
        "import builtins\n",
        "#Take 2 numbers as user input and add, multiply, divide, subtract, remainder and print\n",
        "#the output (Same operations on floating point input as well)\n",
        "a=float(input(\"enter a number\"))\n",
        "b=float(input(\"enter a number\"))\n",
        "c=a+b7\n",
        "d=a-b\n",
        "e=a*b\n",
        "f=a/b\n",
        "g=a%b\n",
        "print(\"sum= \",c)\n",
        "print(\"subtract= \",d)\n",
        "print(\"product= \",e)\n",
        "print(\"division= \",f)\n",
        "print(\"remainder= \",g)"
      ],
      "metadata": {
        "colab": {
          "base_uri": "https://localhost:8080/"
        },
        "id": "IjH2CHhEWHVf",
        "outputId": "d31a6536-9e92-4b88-ee17-102711df27f4"
      },
      "execution_count": null,
      "outputs": [
        {
          "output_type": "stream",
          "name": "stdout",
          "text": [
            "enter a number6\n",
            "enter a number7\n",
            "sum=  13.0\n",
            "subtract=  -1.0\n",
            "product=  42.0\n",
            "division=  0.8571428571428571\n",
            "remainder=  6.0\n"
          ]
        }
      ]
    },
    {
      "cell_type": "code",
      "source": [
        "#Conversion of one unit to another (such as hours to minutes, miles to km and etc)\n",
        "a=float(input(\"enter hours\"))\n",
        "print(\"minutes are= \",a*60)\n",
        "b=float(input(\"enter miles\"))\n",
        "print(\"km are= \",b*1.6)"
      ],
      "metadata": {
        "colab": {
          "base_uri": "https://localhost:8080/"
        },
        "id": "hq_ykyegXxf1",
        "outputId": "393ea130-9a86-4995-8966-daebc15ea3d8"
      },
      "execution_count": null,
      "outputs": [
        {
          "output_type": "stream",
          "name": "stdout",
          "text": [
            "enter hours5\n",
            "minutes are=  300.0\n",
            "enter miles50\n",
            "km are=  80.0\n"
          ]
        }
      ]
    },
    {
      "cell_type": "code",
      "source": [
        "999#Accepting 5 different subject marks from user and displaying the grade of the student\n",
        "s1=float(input(\"enter marks\"))\n",
        "s2=float(input(\"enter marks\"))\n",
        "s3=float(input(\"enter marks\"))\n",
        "s4=float(input(\"enter marks\"))\n",
        "s5=float(input(\"enter marks\"))\n",
        "avg=(s1+s2+s3+s4+s5)/5\n",
        "if avg>=90:\n",
        "  print(\"a grade\")\n",
        "elif avg>=80:\n",
        "  print(\"b grade\")\n",
        "elif avg>=70:\n",
        "  print(\"c grade\")\n",
        "elif avg>=60:\n",
        "  print(\"d grade\")\n",
        "else:\n",
        "  print(\"fail\")"
      ],
      "metadata": {
        "colab": {
          "base_uri": "https://localhost:8080/"
        },
        "id": "2mBysrEMYjat",
        "outputId": "47721ded-57a6-4431-f7c9-16d7ffb0a063"
      },
      "execution_count": null,
      "outputs": [
        {
          "output_type": "stream",
          "name": "stdout",
          "text": [
            "enter marks90\n",
            "enter marks90\n",
            "enter marks90\n",
            "enter marks0\n",
            "enter marks90\n",
            "c grade\n"
          ]
        }
      ]
    },
    {
      "cell_type": "code",
      "source": [
        "#Usage of mathematical functions in python like math.ceil, floor, fabs, fmod, trunc,\n",
        "#pow, sqrt etc\n",
        "import math\n",
        "a=float(input(\"enter a number \"))\n",
        "print(math.ceil(a))\n",
        "print(math.floor(a))\n",
        "print(math.fabs(a))\n",
        "print(math.trunc(a))\n",
        "print(math.sqrt(a))\n",
        "b=float(input(\"enter a number\"))\n",
        "c=float(input(\"enter a number \"))\n",
        "print(math.fmod(b,c))\n",
        "print(math.pow(b,c))"
      ],
      "metadata": {
        "colab": {
          "base_uri": "https://localhost:8080/"
        },
        "id": "lWCKLut3aapD",
        "outputId": "ec40f066-7829-4f73-e535-ca58378e0233"
      },
      "execution_count": null,
      "outputs": [
        {
          "output_type": "stream",
          "name": "stdout",
          "text": [
            "enter a number 56.7\n",
            "57\n",
            "56\n",
            "56.7\n",
            "56\n",
            "7.52994023880668\n",
            "enter a number45\n",
            "enter a number 46\n",
            "45.0\n",
            "1.1162864000310352e+76\n"
          ]
        }
      ]
    },
    {
      "cell_type": "code",
      "source": [
        "#Building a mathematical calculator that can perform operations according to user input.\n",
        "#Use decision making statement.\n",
        "a=float(input(\"enter number \"))\n",
        "b=float(input(\"enter a number \"))\n",
        "o=input(\"enter opeation\")\n",
        "if o==\"sum\":\n",
        "  print(a+b)\n",
        "elif o==\"subtract\":\n",
        "  print(a-b)\n",
        "elif o==\"product\":\n",
        "  print(a*b)\n",
        "elif o==\"remainder\":\n",
        "  print(a%b)\n",
        "else:\n",
        "  print(a/b)\n"
      ],
      "metadata": {
        "colab": {
          "base_uri": "https://localhost:8080/"
        },
        "id": "onk6sbhpdXny",
        "outputId": "59d26348-a4a0-4766-cc75-f505e866c40c"
      },
      "execution_count": null,
      "outputs": [
        {
          "output_type": "stream",
          "name": "stdout",
          "text": [
            "enter number 5\n",
            "enter a number 2\n",
            "enter opeation+\n",
            "2.5\n"
          ]
        }
      ]
    },
    {
      "cell_type": "code",
      "source": [
        "#Printing all even numbers, odd numbers, count of even numbers, count of odd numbers\n",
        "#within a given range.\n",
        "n=int(input(\"enter range \"))\n",
        "c=0\n",
        "for i in range(1,n+1):\n",
        " if i%2==0:\n",
        "   c+=1\n",
        "   print(i)\n",
        "\n",
        "\n",
        "print(\"even count is \",c)\n",
        "\n",
        "d=0\n",
        "for i in range(1,n+1):\n",
        "  if i%2!=0: \n",
        "    d+=1\n",
        "    print(i)\n",
        "\n",
        "print(\"odd count is \",d)\n"
      ],
      "metadata": {
        "colab": {
          "base_uri": "https://localhost:8080/"
        },
        "id": "r3pT8fmue8wM",
        "outputId": "3cae0003-0b64-4d7d-cc66-4ad6fdc5e8e1"
      },
      "execution_count": null,
      "outputs": [
        {
          "output_type": "stream",
          "name": "stdout",
          "text": [
            "enter range 10\n",
            "2\n",
            "4\n",
            "6\n",
            "8\n",
            "10\n",
            "even count is  5\n",
            "1\n",
            "3\n",
            "5\n",
            "7\n",
            "9\n",
            "odd count is  5\n"
          ]
        }
      ]
    },
    {
      "cell_type": "code",
      "source": [
        "#Compute the factorial of a given number.\n",
        "n=int(input(\"enter a number \"))\n",
        "fac=1\n",
        "for i in range(1,n+1):\n",
        "  fac=fac*i\n",
        "\n",
        "print(fac)"
      ],
      "metadata": {
        "colab": {
          "base_uri": "https://localhost:8080/"
        },
        "id": "m6ZD2rkwjICB",
        "outputId": "772dee29-ea30-4749-ab5e-87d05e76b2a0"
      },
      "execution_count": null,
      "outputs": [
        {
          "output_type": "stream",
          "name": "stdout",
          "text": [
            "enter a number 4\n",
            "24\n"
          ]
        }
      ]
    },
    {
      "cell_type": "code",
      "source": [
        "#Compute GCD of two given \n",
        "a=int(input(\"enter a number\"))\n",
        "b=int(input(\"enter a number\"))\n",
        "k=a if a<b else b\n",
        "while True:\n",
        "    if a%k==0 and b%k==0:\n",
        "     break\n",
        "    k -=1\n",
        "print(k)\n"
      ],
      "metadata": {
        "colab": {
          "base_uri": "https://localhost:8080/"
        },
        "id": "4xkhiTQykE6Q",
        "outputId": "c59b8989-b222-420e-c8d1-ae677f0fc2e5"
      },
      "execution_count": null,
      "outputs": [
        {
          "output_type": "stream",
          "name": "stdout",
          "text": [
            "enter a number5\n",
            "enter a number6\n",
            "1\n"
          ]
        }
      ]
    }
  ]
}